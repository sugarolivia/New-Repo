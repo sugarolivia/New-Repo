{
 "cells": [
  {
   "cell_type": "code",
   "execution_count": 8,
   "metadata": {},
   "outputs": [
    {
     "name": "stdout",
     "output_type": "stream",
     "text": [
      "906609\n"
     ]
    }
   ],
   "source": [
    "palindromes = []\n",
    "for x in range(100,1000):\n",
    "    for i in range(100,1000):\n",
    "        num = str(i *x).split()[0]\n",
    "        if len(num) == 6:\n",
    "            if num[0] == num[-1] and num[1] == num[-2] and num[2]==num[-3]:\n",
    "               palindromes.append(i*x)\n",
    "print (max(palindromes))"
   ]
  },
  {
   "cell_type": "code",
   "execution_count": 9,
   "metadata": {},
   "outputs": [
    {
     "name": "stdout",
     "output_type": "stream",
     "text": [
      "277050\n"
     ]
    }
   ],
   "source": [
    "def isPrime(n):\n",
    "    if n < 2: return \"Neither prime, nor composite\"\n",
    "    for i in range(2, int(n**0.5) + 1):\n",
    "        if n % i == 0:\n",
    "            return False\n",
    "    return True\n",
    "\n",
    "sum = 0\n",
    "for i in range(2, 2000):\n",
    "    if isPrime(i):\n",
    "        sum += i\n",
    "\n",
    "print (sum)"
   ]
  },
  {
   "cell_type": "code",
   "execution_count": 16,
   "metadata": {},
   "outputs": [
    {
     "name": "stdout",
     "output_type": "stream",
     "text": [
      "233168\n"
     ]
    }
   ],
   "source": [
    "total=0\n",
    "for n in range(1,1000):\n",
    "    if n % 3 ==0 or n % 5 ==0:\n",
    "        total +=n\n",
    "print(total)"
   ]
  },
  {
   "cell_type": "code",
   "execution_count": 19,
   "metadata": {},
   "outputs": [
    {
     "name": "stdout",
     "output_type": "stream",
     "text": [
      "aabbcc\n",
      "A2B2C3\n"
     ]
    }
   ],
   "source": [
    "input_str_test_1= \"aabbcc\"\n",
    "input_str_test_2= \"AABBCCC\"\n",
    "\n",
    "def string_compression(input_str):\n",
    "    comp_str=''\n",
    "    \n",
    "    count=1\n",
    "    for i in range(len(input_str)-1):\n",
    "        if input_str[i]==input_str[i+1]:\n",
    "            count +=1\n",
    "        else:\n",
    "            comp_str += input_str[i] +str(count)\n",
    "            count=1\n",
    "    comp_str += input_str[i] +str(count)\n",
    "    if len(comp_str)>=len(input_str):\n",
    "        return input_str\n",
    "    else:\n",
    "        return comp_str\n",
    "print(string_compression(input_str_test_1))\n",
    "print(string_compression(input_str_test_2))"
   ]
  },
  {
   "cell_type": "code",
   "execution_count": null,
   "metadata": {},
   "outputs": [],
   "source": []
  }
 ],
 "metadata": {
  "kernelspec": {
   "display_name": "Python 3",
   "language": "python",
   "name": "python3"
  },
  "language_info": {
   "codemirror_mode": {
    "name": "ipython",
    "version": 3
   },
   "file_extension": ".py",
   "mimetype": "text/x-python",
   "name": "python",
   "nbconvert_exporter": "python",
   "pygments_lexer": "ipython3",
   "version": "3.6.5"
  }
 },
 "nbformat": 4,
 "nbformat_minor": 2
}
